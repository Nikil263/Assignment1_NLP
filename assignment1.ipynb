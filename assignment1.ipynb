{
 "cells": [
  {
   "cell_type": "markdown",
   "id": "a9c48141",
   "metadata": {
    "id": "a9c48141"
   },
   "source": [
    "# Assignment 1 NLP\n",
    "\n",
    "## Done by \n",
    "### Nikil Rajasekaran Sargunar Bhoopathy and Swarnamukhi Chintalapudi\n",
    "\n"
   ]
  },
  {
   "cell_type": "markdown",
   "id": "524m5nOtFzrf",
   "metadata": {
    "id": "524m5nOtFzrf"
   },
   "source": [
    "\n",
    "### Importing the modules\n"
   ]
  },
  {
   "cell_type": "code",
   "execution_count": 2,
   "id": "f925d1fd",
   "metadata": {
    "id": "f925d1fd"
   },
   "outputs": [],
   "source": [
    "import json\n",
    "import os\n",
    "import pytrec_eval\n",
    "import time\n",
    "import multiprocessing\n",
    "\n",
    "\n",
    "from utils.common_utils import return_s\n",
    "from utils.sepw import separate_words\n",
    "from utils.get_count_in_wordnet import gcount\n",
    "from utils.success_return import ret_success"
   ]
  },
  {
   "cell_type": "markdown",
   "id": "7e4b0d90",
   "metadata": {
    "id": "7e4b0d90"
   },
   "source": [
    "#### Downloading the wordnet corpus and misspelled word corpus"
   ]
  },
  {
   "cell_type": "code",
   "execution_count": 3,
   "id": "45375ed3",
   "metadata": {
    "colab": {
     "base_uri": "https://localhost:8080/"
    },
    "id": "45375ed3",
    "outputId": "3ca14987-6b8b-4d4b-ed18-4e50a4c14fe3"
   },
   "outputs": [
    {
     "name": "stderr",
     "output_type": "stream",
     "text": [
      "[nltk_data] Downloading package wordnet to /Users/nikil/nltk_data...\n",
      "[nltk_data]   Package wordnet is already up-to-date!\n",
      "[nltk_data] Downloading package omw-1.4 to /Users/nikil/nltk_data...\n",
      "[nltk_data]   Package omw-1.4 is already up-to-date!\n"
     ]
    }
   ],
   "source": [
    "nltk.download('wordnet')\n",
    "nltk.download('omw-1.4')\n",
    "incorrect_word_corpus = open('Data/missp.dat', 'r')"
   ]
  },
  {
   "cell_type": "markdown",
   "id": "f0103389",
   "metadata": {
    "id": "f0103389"
   },
   "source": [
    "####  Reading the misspelled word corpus"
   ]
  },
  {
   "cell_type": "code",
   "execution_count": 4,
   "id": "84617d66",
   "metadata": {
    "id": "84617d66"
   },
   "outputs": [],
   "source": [
    "\n",
    "Lines = incorrect_word_corpus.readlines()\n"
   ]
  },
  {
   "cell_type": "markdown",
   "id": "47308a28",
   "metadata": {
    "id": "47308a28"
   },
   "source": [
    "#### Seperating and storing the correct and incorrect words "
   ]
  },
  {
   "cell_type": "code",
   "execution_count": 5,
   "id": "ec1b7543",
   "metadata": {
    "id": "ec1b7543"
   },
   "outputs": [],
   "source": [
    "correct_words, incorrect_words = separate_words(Lines)"
   ]
  },
  {
   "cell_type": "markdown",
   "id": "fd306dc8",
   "metadata": {
    "id": "47308a28"
   },
   "source": [
    "#### Word count in wordNet corpus and Birkbeck corpus"
   ]
  },
  {
   "cell_type": "code",
   "execution_count": 6,
   "id": "d54iKXkfQwHA",
   "metadata": {
    "colab": {
     "base_uri": "https://localhost:8080/"
    },
    "id": "d54iKXkfQwHA",
    "outputId": "74a813fb-8f24-4035-d7e0-8d66566e2c13"
   },
   "outputs": [
    {
     "name": "stdout",
     "output_type": "stream",
     "text": [
      "total words in Birkbeck corpus :36133\n",
      "total words in WordNet corpus :147306\n"
     ]
    }
   ],
   "source": [
    "print(\"total words in Birkbeck corpus :\" + str(len(incorrect_words)))\n",
    "count = gcount()\n",
    "print(\"total words in WordNet corpus :\" + str(count))"
   ]
  },
  {
   "cell_type": "markdown",
   "id": "y9F7US6JGixY",
   "metadata": {
    "id": "y9F7US6JGixY"
   },
   "source": [
    "\n",
    "### Running without Parallelization\n",
    "\n"
   ]
  },
  {
   "cell_type": "code",
   "execution_count": 7,
   "id": "e1ec03a6",
   "metadata": {
    "id": "e1ec03a6",
    "outputId": "5df37f93-9733-42f8-bee9-1caade366596"
   },
   "outputs": [
    {
     "name": "stdout",
     "output_type": "stream",
     "text": [
      "Results for siit\n",
      "top 1 result\n",
      "{0: 'shit'}\n",
      "top 5 result\n",
      "{0: 'shit', 1: 'silt', 2: 'skit', 3: 'slit', 4: 'snit'}\n",
      "top 10 result\n",
      "{0: 'shit', 1: 'silt', 2: 'skit', 3: 'slit', 4: 'snit', 5: 'spit', 6: 'suit', 7: 'sift', 8: 'sit', 9: 'dirt'}\n",
      "Results for nit\n",
      "top 1 result\n",
      "{0: 'nit'}\n",
      "top 5 result\n",
      "{0: 'nit', 1: 'fit', 2: 'lit', 3: 'net', 4: 'not'}\n",
      "top 10 result\n",
      "{0: 'nit', 1: 'fit', 2: 'lit', 3: 'net', 4: 'not', 5: 'bit', 6: 'dit', 7: 'git', 8: 'hit', 9: 'it'}\n",
      "Results for dee\n",
      "top 1 result\n",
      "{0: 'deep'}\n",
      "top 5 result\n",
      "{0: 'deep', 1: 'due', 2: 'lee', 3: 'nee', 4: 'wee'}\n",
      "top 10 result\n",
      "{0: 'deep', 1: 'due', 2: 'lee', 3: 'nee', 4: 'wee', 5: 'bee', 6: 'de', 7: 'dea', 8: 'deb', 9: 'dec'}\n",
      "Results for hik\n",
      "top 1 result\n",
      "{0: 'hick'}\n",
      "top 5 result\n",
      "{0: 'hick', 1: 'hip', 2: 'haik', 3: 'hi', 4: 'hike'}\n",
      "top 10 result\n",
      "{0: 'hick', 1: 'hip', 2: 'haik', 3: 'hi', 4: 'hike', 5: 'hin', 6: 'hit', 7: 'hiv', 8: 'hie', 9: 'ain'}\n",
      "Results for loo\n",
      "top 1 result\n",
      "{0: 'loo'}\n",
      "top 5 result\n",
      "{0: 'loo', 1: 'lao', 2: 'loco', 3: 'low', 4: 'too'}\n",
      "top 10 result\n",
      "{0: 'loo', 1: 'lao', 2: 'loco', 3: 'low', 4: 'too', 5: 'boo', 6: 'coo', 7: 'goo', 8: 'leo', 9: 'lob'}\n",
      "Results for rop\n",
      "top 1 result\n",
      "{0: 'pop'}\n",
      "top 5 result\n",
      "{0: 'pop', 1: 'ropy', 2: 'top', 3: 'bop', 4: 'cop'}\n",
      "top 10 result\n",
      "{0: 'pop', 1: 'ropy', 2: 'top', 3: 'bop', 4: 'cop', 5: 'crop', 6: 'drop', 7: 'fop', 8: 'gop', 9: 'hop'}\n",
      "Results for fic\n",
      "top 1 result\n",
      "{0: 'fit'}\n",
      "top 5 result\n",
      "{0: 'fit', 1: 'ic', 2: 'sic', 3: 'fcc', 4: 'fdic'}\n",
      "top 10 result\n",
      "{0: 'fit', 1: 'ic', 2: 'sic', 3: 'fcc', 4: 'fdic', 5: 'fib', 6: 'fica', 7: 'fice', 8: 'fig', 9: 'fin'}\n"
     ]
    }
   ],
   "source": [
    "incorrect_words_sample = ['siit','nit','dee','hik','loo','rop','fic']\n",
    "startt = time.time()\n",
    "for i in range(0,len(incorrect_words_sample)):\n",
    "    top1,top5,top10=return_s(incorrect_words_sample[i])\n",
    "    print(\"Results for \"+incorrect_words_sample[i])\n",
    "    print(\"top 1 result\")\n",
    "    print(top1)\n",
    "    print(\"top 5 result\")\n",
    "    print(top5)\n",
    "    print(\"top 10 result\")\n",
    "    print(top10)\n",
    "endt = time.time() \n",
    "\n"
   ]
  },
  {
   "cell_type": "markdown",
   "id": "c658184a",
   "metadata": {
    "id": "c658184a"
   },
   "source": [
    "  ### Running with Parallelization"
   ]
  },
  {
   "cell_type": "code",
   "execution_count": 8,
   "id": "164ee7ab",
   "metadata": {},
   "outputs": [
    {
     "name": "stdout",
     "output_type": "stream",
     "text": [
      "({0: 'shit'}, {0: 'shit', 1: 'silt', 2: 'skit', 3: 'slit', 4: 'snit'}, {0: 'shit', 1: 'silt', 2: 'skit', 3: 'slit', 4: 'snit', 5: 'spit', 6: 'suit', 7: 'sift', 8: 'sit', 9: 'dirt'})\n",
      "({0: 'nit'}, {0: 'nit', 1: 'fit', 2: 'lit', 3: 'net', 4: 'not'}, {0: 'nit', 1: 'fit', 2: 'lit', 3: 'net', 4: 'not', 5: 'bit', 6: 'dit', 7: 'git', 8: 'hit', 9: 'it'})\n",
      "({0: 'deep'}, {0: 'deep', 1: 'due', 2: 'lee', 3: 'nee', 4: 'wee'}, {0: 'deep', 1: 'due', 2: 'lee', 3: 'nee', 4: 'wee', 5: 'bee', 6: 'de', 7: 'dea', 8: 'deb', 9: 'dec'})\n",
      "({0: 'hick'}, {0: 'hick', 1: 'hip', 2: 'haik', 3: 'hi', 4: 'hike'}, {0: 'hick', 1: 'hip', 2: 'haik', 3: 'hi', 4: 'hike', 5: 'hin', 6: 'hit', 7: 'hiv', 8: 'hie', 9: 'ain'})\n",
      "({0: 'loo'}, {0: 'loo', 1: 'lao', 2: 'loco', 3: 'low', 4: 'too'}, {0: 'loo', 1: 'lao', 2: 'loco', 3: 'low', 4: 'too', 5: 'boo', 6: 'coo', 7: 'goo', 8: 'leo', 9: 'lob'})\n",
      "({0: 'pop'}, {0: 'pop', 1: 'ropy', 2: 'top', 3: 'bop', 4: 'cop'}, {0: 'pop', 1: 'ropy', 2: 'top', 3: 'bop', 4: 'cop', 5: 'crop', 6: 'drop', 7: 'fop', 8: 'gop', 9: 'hop'})\n",
      "({0: 'fit'}, {0: 'fit', 1: 'ic', 2: 'sic', 3: 'fcc', 4: 'fdic'}, {0: 'fit', 1: 'ic', 2: 'sic', 3: 'fcc', 4: 'fdic', 5: 'fib', 6: 'fica', 7: 'fice', 8: 'fig', 9: 'fin'})\n"
     ]
    }
   ],
   "source": [
    "starttmp= time.time()\n",
    "pool = multiprocessing.Pool()\n",
    "pool = multiprocessing.Pool(processes=4)\n",
    "result=[]\n",
    "result = pool.map(return_s, incorrect_words_sample)\n",
    "endtmp = time.time()\n",
    "for i in range(len(result)):\n",
    "    print(result[i])"
   ]
  },
  {
   "cell_type": "markdown",
   "id": "Bi7GkXlwDHbx",
   "metadata": {
    "id": "Bi7GkXlwDHbx"
   },
   "source": [
    "\n",
    "\n",
    "# Result \n",
    "\n",
    "Run time on the sample"
   ]
  },
  {
   "cell_type": "code",
   "execution_count": 9,
   "id": "14edcd21",
   "metadata": {
    "id": "14edcd21"
   },
   "outputs": [
    {
     "name": "stdout",
     "output_type": "stream",
     "text": [
      "time taken without parallelization :18.119427919387817\n",
      "time taken with parallelization :7.6618781089782715\n"
     ]
    }
   ],
   "source": [
    "print(\"time taken without parallelization :\" + str(endt-startt))\n",
    "print(\"time taken with parallelization :\" + str(endtmp-starttmp))"
   ]
  },
  {
   "cell_type": "markdown",
   "id": "b9f56516",
   "metadata": {
    "id": "Bi7GkXlwDHbx"
   },
   "source": [
    "#### The time taken while running with parallelization is less compared to the run time without parallelization\n"
   ]
  },
  {
   "cell_type": "markdown",
   "id": "EM6koKKzDgoI",
   "metadata": {
    "id": "EM6koKKzDgoI"
   },
   "source": [
    "### Evaluation\n",
    "\n",
    "The success at k = {1,5,10} are calculated using pytrec_eval  "
   ]
  },
  {
   "cell_type": "code",
   "execution_count": 10,
   "id": "588cea07",
   "metadata": {},
   "outputs": [],
   "source": [
    "incorrect_words1= incorrect_words[150:200]\n",
    "correct_words1= correct_words[150:200]\n",
    "pool = multiprocessing.Pool()\n",
    "pool = multiprocessing.Pool(processes=4)\n",
    "results=[]\n",
    "results = pool.map(return_s, incorrect_words1)\n"
   ]
  },
  {
   "cell_type": "code",
   "execution_count": 11,
   "id": "78132732",
   "metadata": {},
   "outputs": [
    {
     "name": "stdout",
     "output_type": "stream",
     "text": [
      "{'irland': {'success_1': 0, 'success_5': 1, 'success_10': 1}, 'iresh': {'success_1': 0, 'success_5': 1, 'success_10': 1}, 'januery': {'success_1': 1, 'success_5': 1, 'success_10': 1}, 'jaly': {'success_1': 0, 'success_5': 1, 'success_10': 1}, 'jun': {'success_1': 0, 'success_5': 0, 'success_10': 1}, 'lester': {'success_1': 0, 'success_5': 0, 'success_10': 0}, 'las_angles': {'success_1': 1, 'success_5': 1, 'success_10': 1}, 'luks': {'success_1': 0, 'success_5': 0, 'success_10': 0}, 'mayfeild': {'success_1': 0, 'success_5': 0, 'success_10': 0}, 'meditterranean': {'success_1': 1, 'success_5': 1, 'success_10': 1}, 'mis': {'success_1': 0, 'success_5': 0, 'success_10': 0}, 'munday': {'success_1': 1, 'success_5': 1, 'success_10': 1}, 'mrs': {'success_1': 0, 'success_5': 0, 'success_10': 1}, 'miss': {'success_1': 0, 'success_5': 0, 'success_10': 0}, 'mixss': {'success_1': 0, 'success_5': 0, 'success_10': 0}, \"mr's\": {'success_1': 1, 'success_5': 1, 'success_10': 1}, 'mrss': {'success_1': 0, 'success_5': 1, 'success_10': 1}, 'octber': {'success_1': 1, 'success_5': 1, 'success_10': 1}, 'pikaness': {'success_1': 0, 'success_5': 0, 'success_10': 0}, 'perllips': {'success_1': 0, 'success_5': 0, 'success_10': 0}, 'pyrannean': {'success_1': 0, 'success_5': 0, 'success_10': 0}, 'rowles': {'success_1': 0, 'success_5': 0, 'success_10': 0}, 'samariton': {'success_1': 1, 'success_5': 1, 'success_10': 1}, 'saterday': {'success_1': 1, 'success_5': 1, 'success_10': 1}, 'satuarday': {'success_1': 1, 'success_5': 1, 'success_10': 1}, 'scotts': {'success_1': 1, 'success_5': 1, 'success_10': 1}, 'sep': {'success_1': 0, 'success_5': 0, 'success_10': 0}, 'septenber': {'success_1': 1, 'success_5': 1, 'success_10': 1}, 'septmber': {'success_1': 1, 'success_5': 1, 'success_10': 1}, 'shebre': {'success_1': 0, 'success_5': 0, 'success_10': 0}, 'spanich': {'success_1': 1, 'success_5': 1, 'success_10': 1}, 'sanday': {'success_1': 0, 'success_5': 1, 'success_10': 1}, 'sweedish': {'success_1': 1, 'success_5': 1, 'success_10': 1}, 'thems': {'success_1': 0, 'success_5': 0, 'success_10': 0}, 'teusday': {'success_1': 0, 'success_5': 1, 'success_10': 1}, 'tusday': {'success_1': 1, 'success_5': 1, 'success_10': 1}, 'tuseday': {'success_1': 1, 'success_5': 1, 'success_10': 1}, 'vitiorian': {'success_1': 1, 'success_5': 1, 'success_10': 1}, 'wdendsdy': {'success_1': 0, 'success_5': 0, 'success_10': 0}, 'wedensday': {'success_1': 1, 'success_5': 1, 'success_10': 1}, 'wensday': {'success_1': 1, 'success_5': 1, 'success_10': 1}, 'wesh': {'success_1': 1, 'success_5': 1, 'success_10': 1}, 'exrays': {'success_1': 0, 'success_5': 0, 'success_10': 0}, 'i': {'success_1': 0, 'success_5': 0, 'success_10': 0}, 'ah': {'success_1': 0, 'success_5': 1, 'success_10': 1}, 'an': {'success_1': 0, 'success_5': 0, 'success_10': 0}, 'and': {'success_1': 0, 'success_5': 0, 'success_10': 0}, 'are': {'success_1': 0, 'success_5': 0, 'success_10': 0}, 'as': {'success_1': 0, 'success_5': 1, 'success_10': 1}}\n"
     ]
    }
   ],
   "source": [
    "success = ret_success(correct_words1, incorrect_words1, results)\n",
    "print(success)"
   ]
  },
  {
   "cell_type": "code",
   "execution_count": 12,
   "id": "fd48ccf1",
   "metadata": {},
   "outputs": [
    {
     "name": "stdout",
     "output_type": "stream",
     "text": [
      "success_1 average: 0.40816326530612246\n",
      "success_10 average: 0.6122448979591837\n",
      "success_5 average: 0.5714285714285714\n"
     ]
    }
   ],
   "source": [
    "for measure in sorted(list(success[list(success.keys())[0]].keys())):\n",
    "    print(measure, 'average:',\n",
    "          pytrec_eval.compute_aggregated_measure(\n",
    "              measure, [query_measures[measure] for query_measures in success.values()])\n",
    "          )"
   ]
  },
  {
   "cell_type": "markdown",
   "id": "074f0ef0",
   "metadata": {
    "id": "EM6koKKzDgoI"
   },
   "source": [
    "#### The average success at k = {1, 5 ,10} "
   ]
  },
  {
   "cell_type": "code",
   "execution_count": null,
   "id": "5ee5a97b",
   "metadata": {},
   "outputs": [],
   "source": []
  }
 ],
 "metadata": {
  "colab": {
   "collapsed_sections": [],
   "name": "assignment1.ipynb",
   "provenance": []
  },
  "kernelspec": {
   "display_name": "Python 3 (ipykernel)",
   "language": "python",
   "name": "python3"
  },
  "language_info": {
   "codemirror_mode": {
    "name": "ipython",
    "version": 3
   },
   "file_extension": ".py",
   "mimetype": "text/x-python",
   "name": "python",
   "nbconvert_exporter": "python",
   "pygments_lexer": "ipython3",
   "version": "3.9.12"
  }
 },
 "nbformat": 4,
 "nbformat_minor": 5
}
